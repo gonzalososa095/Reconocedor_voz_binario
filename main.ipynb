{
 "cells": [
  {
   "cell_type": "code",
   "execution_count": 1,
   "metadata": {},
   "outputs": [],
   "source": [
    "import tensorflow as tf\n",
    "from tensorflow.keras.callbacks import CSVLogger, ModelCheckpoint\n",
    "from tensorflow.keras.utils import to_categorical\n",
    "import os\n",
    "from scipy.io import wavfile\n",
    "import pandas as pd\n",
    "import numpy as np\n",
    "from sklearn.utils.class_weight import compute_class_weight\n",
    "from sklearn.preprocessing import LabelEncoder\n",
    "from sklearn.model_selection import train_test_split\n",
    "from tqdm import tqdm\n",
    "from glob import glob\n",
    "import argparse\n",
    "import warnings\n",
    "from tensorflow.keras import layers\n",
    "from tensorflow.keras.layers import TimeDistributed\n",
    "from tensorflow.keras.models import Model\n",
    "from tensorflow.keras.regularizers import l2\n",
    "from kapre.time_frequency import Melspectrogram\n",
    "from kapre.utils import Normalization2D\n",
    "import matplotlib.pyplot as plt"
   ]
  },
  {
   "cell_type": "code",
   "execution_count": 2,
   "metadata": {},
   "outputs": [],
   "source": [
    "class DataGenerator(tf.keras.utils.Sequence):\n",
    "    def __init__(self, wav_paths, labels, sr, dt, n_classes,\n",
    "                 batch_size=32, shuffle=True):\n",
    "        self.wav_paths = wav_paths\n",
    "        self.labels = labels\n",
    "        self.sr = sr\n",
    "        self.dt = dt\n",
    "        self.n_classes = n_classes\n",
    "        self.batch_size = batch_size\n",
    "        self.shuffle = True\n",
    "        self.on_epoch_end()\n",
    "\n",
    "\n",
    "    def __len__(self):\n",
    "        return int(np.floor(len(self.wav_paths) / self.batch_size))\n",
    "\n",
    "\n",
    "    def __getitem__(self, index):\n",
    "        indexes = self.indexes[index*self.batch_size:(index+1)*self.batch_size]\n",
    "\n",
    "        wav_paths = [self.wav_paths[k] for k in indexes]\n",
    "        labels = [self.labels[k] for k in indexes]\n",
    "\n",
    "        # generate a batch of time data\n",
    "        X = np.empty((self.batch_size, 1, int(self.sr*self.dt)), dtype=np.float32)\n",
    "        Y = np.empty((self.batch_size, self.n_classes), dtype=np.float32)\n",
    "\n",
    "        for i, (path, label) in enumerate(zip(wav_paths, labels)):\n",
    "            rate, wav = wavfile.read(path)\n",
    "            X[i,] = wav.reshape(1, -1)\n",
    "            Y[i,] = to_categorical(label, num_classes=self.n_classes)\n",
    "\n",
    "        return X, Y\n",
    "\n",
    "\n",
    "    def on_epoch_end(self):\n",
    "        self.indexes = np.arange(len(self.wav_paths))\n",
    "        if self.shuffle:\n",
    "            np.random.shuffle(self.indexes)"
   ]
  },
  {
   "cell_type": "code",
   "execution_count": 3,
   "metadata": {},
   "outputs": [],
   "source": [
    "src_root = 'Archivos_procesados'\n",
    "sr = 16000\n",
    "dt = 2.0\n",
    "batch_size = 5\n",
    "model_type = 'conv1d'"
   ]
  },
  {
   "cell_type": "code",
   "execution_count": 4,
   "metadata": {},
   "outputs": [],
   "source": [
    "wav_paths = glob('{}/**'.format(src_root), recursive=True)  "
   ]
  },
  {
   "cell_type": "code",
   "execution_count": 5,
   "metadata": {},
   "outputs": [],
   "source": [
    "wav_paths = [x.replace(os.sep, '/') for x in wav_paths if '.wav' in x] "
   ]
  },
  {
   "cell_type": "code",
   "execution_count": 6,
   "metadata": {},
   "outputs": [
    {
     "data": {
      "text/plain": [
       "['Charo', 'Gonza']"
      ]
     },
     "execution_count": 6,
     "metadata": {},
     "output_type": "execute_result"
    }
   ],
   "source": [
    "classes = sorted(os.listdir(src_root)) \n",
    "classes"
   ]
  },
  {
   "cell_type": "code",
   "execution_count": 7,
   "metadata": {},
   "outputs": [],
   "source": [
    "le = LabelEncoder() "
   ]
  },
  {
   "cell_type": "code",
   "execution_count": 8,
   "metadata": {},
   "outputs": [
    {
     "data": {
      "text/plain": [
       "LabelEncoder()"
      ]
     },
     "execution_count": 8,
     "metadata": {},
     "output_type": "execute_result"
    }
   ],
   "source": [
    "le.fit(classes)"
   ]
  },
  {
   "cell_type": "code",
   "execution_count": 9,
   "metadata": {},
   "outputs": [],
   "source": [
    "labels = [os.path.split(x)[0].split('/')[-1] for x in wav_paths]  \n",
    "#labels"
   ]
  },
  {
   "cell_type": "code",
   "execution_count": 10,
   "metadata": {},
   "outputs": [],
   "source": [
    "labels = le.transform(labels) "
   ]
  },
  {
   "cell_type": "code",
   "execution_count": 11,
   "metadata": {},
   "outputs": [],
   "source": [
    "wav_train, wav_val, label_train, label_val = train_test_split(wav_paths,\n",
    "                                                                  labels,\n",
    "                                                                  test_size=0.1,\n",
    "                                                                  random_state=0)"
   ]
  },
  {
   "cell_type": "code",
   "execution_count": 12,
   "metadata": {},
   "outputs": [],
   "source": [
    "tg = DataGenerator(wav_train, label_train, sr, dt, 2, batch_size=batch_size)  "
   ]
  },
  {
   "cell_type": "code",
   "execution_count": 13,
   "metadata": {},
   "outputs": [],
   "source": [
    "vg = DataGenerator(wav_val, label_val, sr, dt, 2, batch_size=batch_size)"
   ]
  },
  {
   "cell_type": "code",
   "execution_count": 14,
   "metadata": {},
   "outputs": [
    {
     "name": "stderr",
     "output_type": "stream",
     "text": [
      "c:\\users\\gonza\\.conda\\envs\\audio\\lib\\site-packages\\librosa\\filters.py:196: FutureWarning: norm=1 behavior will change in librosa 0.8.0. To maintain forward compatibility, use norm='slaney' instead.\n",
      "  FutureWarning)\n"
     ]
    }
   ],
   "source": [
    "i = layers.Input(shape=(1, int(sr*dt)), name='input')  #Shape (1,32000), Nombre \n",
    "x = Melspectrogram(n_dft=512, n_hop=160,padding='same', sr=sr, n_mels=128,fmin=0.0, fmax=sr/2, power_melgram=2.0,return_decibel_melgram=True, trainable_fb=False,\n",
    "                       trainable_kernel=False, name='melbands')(i)\n",
    "x = Normalization2D(str_axis='batch', name='batch_norm')(x)\n",
    "x = layers.Permute((2,1,3), name='permute')(x)\n",
    "x = TimeDistributed(layers.Conv1D(8, kernel_size=(4), activation='tanh'), name='td_conv_1d_tanh')(x)\n",
    "x = layers.MaxPooling2D(pool_size=(2,2), name='max_pool_2d_1')(x)\n",
    "x = TimeDistributed(layers.Conv1D(16, kernel_size=(4), activation='relu'), name='td_conv_1d_relu_1')(x)\n",
    "x = layers.MaxPooling2D(pool_size=(2,2), name='max_pool_2d_2')(x)\n",
    "x = TimeDistributed(layers.Conv1D(32, kernel_size=(4), activation='relu'), name='td_conv_1d_relu_2')(x)\n",
    "x = layers.MaxPooling2D(pool_size=(2,2), name='max_pool_2d_3')(x)\n",
    "x = TimeDistributed(layers.Conv1D(64, kernel_size=(4), activation='relu'), name='td_conv_1d_relu_3')(x)\n",
    "x = layers.MaxPooling2D(pool_size=(2,2), name='max_pool_2d_4')(x)\n",
    "x = TimeDistributed(layers.Conv1D(128, kernel_size=(4), activation='relu'), name='td_conv_1d_relu_4')(x)\n",
    "x = layers.GlobalMaxPooling2D(name='global_max_pooling_2d')(x)\n",
    "x = layers.Dropout(rate=0.1, name='dropout')(x)\n",
    "x = layers.Dense(64, activation='relu', activity_regularizer=l2(0.001), name='dense')(x)\n",
    "o = layers.Dense(2, activation='sigmoid', name='sigmoid')(x)  #N_CLASSES\n",
    "\n",
    "model = Model(inputs=i, outputs=o, name='1d_convolution')\n",
    "model.compile(optimizer='adam',loss='categorical_crossentropy',metrics=['accuracy']) #binary_accuracy"
   ]
  },
  {
   "cell_type": "code",
   "execution_count": 15,
   "metadata": {},
   "outputs": [
    {
     "name": "stdout",
     "output_type": "stream",
     "text": [
      "Model: \"1d_convolution\"\n",
      "_________________________________________________________________\n",
      "Layer (type)                 Output Shape              Param #   \n",
      "=================================================================\n",
      "input (InputLayer)           [(None, 1, 32000)]        0         \n",
      "_________________________________________________________________\n",
      "melbands (Melspectrogram)    (None, 128, 200, 1)       296064    \n",
      "_________________________________________________________________\n",
      "batch_norm (Normalization2D) (None, 128, 200, 1)       0         \n",
      "_________________________________________________________________\n",
      "permute (Permute)            (None, 200, 128, 1)       0         \n",
      "_________________________________________________________________\n",
      "td_conv_1d_tanh (TimeDistrib (None, 200, 125, 8)       40        \n",
      "_________________________________________________________________\n",
      "max_pool_2d_1 (MaxPooling2D) (None, 100, 62, 8)        0         \n",
      "_________________________________________________________________\n",
      "td_conv_1d_relu_1 (TimeDistr (None, 100, 59, 16)       528       \n",
      "_________________________________________________________________\n",
      "max_pool_2d_2 (MaxPooling2D) (None, 50, 29, 16)        0         \n",
      "_________________________________________________________________\n",
      "td_conv_1d_relu_2 (TimeDistr (None, 50, 26, 32)        2080      \n",
      "_________________________________________________________________\n",
      "max_pool_2d_3 (MaxPooling2D) (None, 25, 13, 32)        0         \n",
      "_________________________________________________________________\n",
      "td_conv_1d_relu_3 (TimeDistr (None, 25, 10, 64)        8256      \n",
      "_________________________________________________________________\n",
      "max_pool_2d_4 (MaxPooling2D) (None, 12, 5, 64)         0         \n",
      "_________________________________________________________________\n",
      "td_conv_1d_relu_4 (TimeDistr (None, 12, 2, 128)        32896     \n",
      "_________________________________________________________________\n",
      "global_max_pooling_2d (Globa (None, 128)               0         \n",
      "_________________________________________________________________\n",
      "dropout (Dropout)            (None, 128)               0         \n",
      "_________________________________________________________________\n",
      "dense (Dense)                (None, 64)                8256      \n",
      "_________________________________________________________________\n",
      "sigmoid (Dense)              (None, 2)                 130       \n",
      "=================================================================\n",
      "Total params: 348,250\n",
      "Trainable params: 348,250\n",
      "Non-trainable params: 0\n",
      "_________________________________________________________________\n"
     ]
    }
   ],
   "source": [
    "model.summary()"
   ]
  },
  {
   "cell_type": "code",
   "execution_count": 17,
   "metadata": {},
   "outputs": [
    {
     "name": "stdout",
     "output_type": "stream",
     "text": [
      "WARNING:tensorflow:sample_weight modes were coerced from\n",
      "  ...\n",
      "    to  \n",
      "  ['...']\n",
      "WARNING:tensorflow:sample_weight modes were coerced from\n",
      "  ...\n",
      "    to  \n",
      "  ['...']\n",
      "Train for 32 steps, validate for 3 steps\n",
      "Epoch 1/5\n",
      "32/32 - 2s - loss: 0.6753 - accuracy: 0.6375 - val_loss: 0.6353 - val_accuracy: 0.8000\n",
      "Epoch 2/5\n",
      "32/32 - 1s - loss: 0.3145 - accuracy: 0.9500 - val_loss: 0.0698 - val_accuracy: 1.0000\n",
      "Epoch 3/5\n",
      "32/32 - 1s - loss: 0.0623 - accuracy: 1.0000 - val_loss: 0.0523 - val_accuracy: 1.0000\n",
      "Epoch 4/5\n",
      "32/32 - 1s - loss: 0.0449 - accuracy: 1.0000 - val_loss: 0.0390 - val_accuracy: 1.0000\n",
      "Epoch 5/5\n",
      "32/32 - 1s - loss: 0.0371 - accuracy: 1.0000 - val_loss: 0.0341 - val_accuracy: 1.0000\n"
     ]
    }
   ],
   "source": [
    "history = model.fit(tg, validation_data=vg,\n",
    "              epochs=5, verbose=2, workers=2)"
   ]
  },
  {
   "cell_type": "code",
   "execution_count": 18,
   "metadata": {},
   "outputs": [],
   "source": [
    "acc      = history.history['accuracy']\n",
    "val_acc  = history.history['val_accuracy']\n",
    "loss     = history.history['loss']\n",
    "val_loss = history.history['val_loss']"
   ]
  },
  {
   "cell_type": "code",
   "execution_count": 19,
   "metadata": {},
   "outputs": [],
   "source": [
    "epochs   = range(len(acc)) "
   ]
  },
  {
   "cell_type": "code",
   "execution_count": 20,
   "metadata": {},
   "outputs": [
    {
     "data": {
      "text/plain": [
       "<Figure size 432x288 with 0 Axes>"
      ]
     },
     "execution_count": 20,
     "metadata": {},
     "output_type": "execute_result"
    },
    {
     "data": {
      "image/png": "[encoded data removed]",
      "text/plain": [
       "<Figure size 432x288 with 1 Axes>"
      ]
     },
     "metadata": {
      "needs_background": "light"
     },
     "output_type": "display_data"
    },
    {
     "data": {
      "text/plain": [
       "<Figure size 432x288 with 0 Axes>"
      ]
     },
     "metadata": {},
     "output_type": "display_data"
    }
   ],
   "source": [
    "plt.plot  ( epochs,     acc, label = 'Training' )\n",
    "plt.plot  ( epochs, val_acc, label = 'Validation' )\n",
    "plt.title ('Training and validation accuracy')\n",
    "plt.legend()\n",
    "plt.figure()"
   ]
  },
  {
   "cell_type": "code",
   "execution_count": 21,
   "metadata": {},
   "outputs": [
    {
     "data": {
      "text/plain": [
       "<matplotlib.legend.Legend at 0x217df7a3ec8>"
      ]
     },
     "execution_count": 21,
     "metadata": {},
     "output_type": "execute_result"
    },
    {
     "data": {
      "image/png": "[encoded data removed]",
      "text/plain": [
       "<Figure size 432x288 with 1 Axes>"
      ]
     },
     "metadata": {
      "needs_background": "light"
     },
     "output_type": "display_data"
    }
   ],
   "source": [
    "plt.plot  ( epochs,     loss ,label = 'Training')\n",
    "plt.plot  ( epochs, val_loss ,label = 'Validation')\n",
    "plt.title ('Training and validation loss'   )\n",
    "plt.legend()"
   ]
  },
  {
   "cell_type": "code",
   "execution_count": 22,
   "metadata": {},
   "outputs": [],
   "source": [
    "wav_ruta = glob('{}/**'.format('Archivos_procesados_test'), recursive=True)\n",
    "wav_ruta = [x for x in wav_ruta if '.wav' in x]"
   ]
  },
  {
   "cell_type": "code",
   "execution_count": 24,
   "metadata": {},
   "outputs": [
    {
     "name": "stdout",
     "output_type": "stream",
     "text": [
      "La prediccion paraArchivos_procesados_test\\Charo\\Charo_0.waves: Charo\n",
      "La prediccion paraArchivos_procesados_test\\Charo\\Charo_1.waves: Charo\n",
      "La prediccion paraArchivos_procesados_test\\Charo\\Charo_10.waves: Charo\n",
      "La prediccion paraArchivos_procesados_test\\Charo\\Charo_11.waves: Charo\n",
      "La prediccion paraArchivos_procesados_test\\Charo\\Charo_12.waves: Charo\n",
      "La prediccion paraArchivos_procesados_test\\Charo\\Charo_13.waves: Charo\n",
      "La prediccion paraArchivos_procesados_test\\Charo\\Charo_14.waves: Charo\n",
      "La prediccion paraArchivos_procesados_test\\Charo\\Charo_15.waves: Charo\n",
      "La prediccion paraArchivos_procesados_test\\Charo\\Charo_16.waves: Charo\n",
      "La prediccion paraArchivos_procesados_test\\Charo\\Charo_17.waves: Charo\n",
      "La prediccion paraArchivos_procesados_test\\Charo\\Charo_18.waves: Charo\n",
      "La prediccion paraArchivos_procesados_test\\Charo\\Charo_19.waves: Charo\n",
      "La prediccion paraArchivos_procesados_test\\Charo\\Charo_2.waves: Charo\n",
      "La prediccion paraArchivos_procesados_test\\Charo\\Charo_20.waves: Charo\n",
      "La prediccion paraArchivos_procesados_test\\Charo\\Charo_21.waves: Charo\n",
      "La prediccion paraArchivos_procesados_test\\Charo\\Charo_22.waves: Charo\n",
      "La prediccion paraArchivos_procesados_test\\Charo\\Charo_23.waves: Charo\n",
      "La prediccion paraArchivos_procesados_test\\Charo\\Charo_24.waves: Charo\n",
      "La prediccion paraArchivos_procesados_test\\Charo\\Charo_3.waves: Charo\n",
      "La prediccion paraArchivos_procesados_test\\Charo\\Charo_4.waves: Charo\n",
      "La prediccion paraArchivos_procesados_test\\Charo\\Charo_5.waves: Charo\n",
      "La prediccion paraArchivos_procesados_test\\Charo\\Charo_6.waves: Charo\n",
      "La prediccion paraArchivos_procesados_test\\Charo\\Charo_7.waves: Charo\n",
      "La prediccion paraArchivos_procesados_test\\Charo\\Charo_8.waves: Charo\n",
      "La prediccion paraArchivos_procesados_test\\Charo\\Charo_9.waves: Charo\n",
      "La prediccion paraArchivos_procesados_test\\Gonza\\Gonza_0.waves: Gonza\n",
      "La prediccion paraArchivos_procesados_test\\Gonza\\Gonza_1.waves: Gonza\n",
      "La prediccion paraArchivos_procesados_test\\Gonza\\Gonza_10.waves: Gonza\n",
      "La prediccion paraArchivos_procesados_test\\Gonza\\Gonza_11.waves: Gonza\n",
      "La prediccion paraArchivos_procesados_test\\Gonza\\Gonza_12.waves: Gonza\n",
      "La prediccion paraArchivos_procesados_test\\Gonza\\Gonza_13.waves: Gonza\n",
      "La prediccion paraArchivos_procesados_test\\Gonza\\Gonza_14.waves: Gonza\n",
      "La prediccion paraArchivos_procesados_test\\Gonza\\Gonza_15.waves: Gonza\n",
      "La prediccion paraArchivos_procesados_test\\Gonza\\Gonza_16.waves: Gonza\n",
      "La prediccion paraArchivos_procesados_test\\Gonza\\Gonza_17.waves: Gonza\n",
      "La prediccion paraArchivos_procesados_test\\Gonza\\Gonza_18.waves: Gonza\n",
      "La prediccion paraArchivos_procesados_test\\Gonza\\Gonza_19.waves: Gonza\n",
      "La prediccion paraArchivos_procesados_test\\Gonza\\Gonza_2.waves: Gonza\n",
      "La prediccion paraArchivos_procesados_test\\Gonza\\Gonza_20.waves: Gonza\n",
      "La prediccion paraArchivos_procesados_test\\Gonza\\Gonza_21.waves: Gonza\n",
      "La prediccion paraArchivos_procesados_test\\Gonza\\Gonza_22.waves: Gonza\n",
      "La prediccion paraArchivos_procesados_test\\Gonza\\Gonza_23.waves: Gonza\n",
      "La prediccion paraArchivos_procesados_test\\Gonza\\Gonza_24.waves: Gonza\n",
      "La prediccion paraArchivos_procesados_test\\Gonza\\Gonza_25.waves: Gonza\n",
      "La prediccion paraArchivos_procesados_test\\Gonza\\Gonza_26.waves: Gonza\n",
      "La prediccion paraArchivos_procesados_test\\Gonza\\Gonza_27.waves: Gonza\n",
      "La prediccion paraArchivos_procesados_test\\Gonza\\Gonza_28.waves: Gonza\n",
      "La prediccion paraArchivos_procesados_test\\Gonza\\Gonza_3.waves: Gonza\n",
      "La prediccion paraArchivos_procesados_test\\Gonza\\Gonza_4.waves: Gonza\n",
      "La prediccion paraArchivos_procesados_test\\Gonza\\Gonza_5.waves: Gonza\n",
      "La prediccion paraArchivos_procesados_test\\Gonza\\Gonza_6.waves: Gonza\n",
      "La prediccion paraArchivos_procesados_test\\Gonza\\Gonza_7.waves: Gonza\n",
      "La prediccion paraArchivos_procesados_test\\Gonza\\Gonza_8.waves: Gonza\n",
      "La prediccion paraArchivos_procesados_test\\Gonza\\Gonza_9.waves: Gonza\n"
     ]
    }
   ],
   "source": [
    "for i in wav_ruta:\n",
    "    rate_predict, wav_predict = wavfile.read(i)\n",
    "    wav_predict = wav_predict.reshape(1,1,-1)\n",
    "    prediccion = model.predict(wav_predict)\n",
    "    if prediccion[0][0] < prediccion [0][1]:\n",
    "        print('La prediccion para' + i + 'es: Gonza')\n",
    "    elif prediccion[0][0] > prediccion[0][1]:\n",
    "        print('La prediccion para' + i + 'es: Charo')\n",
    "    else:\n",
    "        print('La prediccion no puede hacerse')\n",
    "            \n",
    "        "
   ]
  }
 ],
 "metadata": {
  "kernelspec": {
   "display_name": "audio",
   "language": "python",
   "name": "audio"
  },
  "language_info": {
   "codemirror_mode": {
    "name": "ipython",
    "version": 3
   },
   "file_extension": ".py",
   "mimetype": "text/x-python",
   "name": "python",
   "nbconvert_exporter": "python",
   "pygments_lexer": "ipython3",
   "version": "3.7.7"
  }
 },
 "nbformat": 4,
 "nbformat_minor": 4
}

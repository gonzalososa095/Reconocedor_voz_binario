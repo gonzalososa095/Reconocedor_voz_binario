{
 "cells": [
  {
   "cell_type": "code",
   "execution_count": 6,
   "metadata": {},
   "outputs": [],
   "source": [
    "import matplotlib.pyplot as plt\n",
    "from scipy.io import wavfile\n",
    "import argparse\n",
    "import os\n",
    "from glob import glob\n",
    "import numpy as np\n",
    "import pandas as pd\n",
    "from librosa.core import resample, to_mono\n",
    "from tqdm import tqdm\n"
   ]
  },
  {
   "cell_type": "markdown",
   "metadata": {},
   "source": [
    "Se leen los archivos .wav de las carpetas 'Archivos_wav' y 'Archivos_wav_test'. Se realiza un downsampling a 16 Khz, y se divide cada muestra a fin de obtener muestras de 2 segundos. Las muestras procesadas se guardan en 'Archivos_procesados' y 'Archivos_procesados_test'."
   ]
  },
  {
   "cell_type": "code",
   "execution_count": 7,
   "metadata": {},
   "outputs": [],
   "source": [
    "def downsampling(path, sr):\n",
    "    rate, wav = wavfile.read(path)\n",
    "    wav = wav.astype(np.float32, order='F')\n",
    "    try:\n",
    "        tmp = wav.shape[1]\n",
    "        wav = to_mono(wav.T)\n",
    "    except:\n",
    "        pass\n",
    "    wav = resample(wav, rate, sr)\n",
    "    wav = wav.astype(np.int16)\n",
    "    return sr, wav"
   ]
  },
  {
   "cell_type": "code",
   "execution_count": 8,
   "metadata": {},
   "outputs": [],
   "source": [
    "def save_sample(sample, rate, target_dir, fn, ix):\n",
    "    fn = fn.split('.wav')[0]\n",
    "    dst_path = os.path.join(target_dir.split('.')[0], fn+'_{}.wav'.format(str(ix)))\n",
    "    if os.path.exists(dst_path):\n",
    "        return\n",
    "    wavfile.write(dst_path, rate, sample)"
   ]
  },
  {
   "cell_type": "code",
   "execution_count": 12,
   "metadata": {},
   "outputs": [],
   "source": [
    "src_root = 'Archivos_wav'\n",
    "src_root_test = 'Archivos_wav_test'\n",
    "dst_root = 'Archivos_procesados'\n",
    "dst_root_test = 'Archivos_procesados_test'\n",
    "dt = 2\n",
    "\n",
    "wav_paths = glob('{}/**'.format(src_root), recursive=True)\n",
    "wav_paths = [x for x in wav_paths if '.wav' in x]\n",
    "\n",
    "wav_paths_test = glob('{}/**'.format(src_root_test), recursive=True)\n",
    "wav_paths_test = [x for x in wav_paths_test if '.wav' in x]\n",
    "\n",
    "\n",
    "dirs = os.listdir(src_root)\n",
    "dirs_test = os.listdir(src_root)\n",
    "\n",
    "os.mkdir(dst_root)\n",
    "os.mkdir(dst_root_test)\n",
    "\n",
    "clases = os.listdir(src_root)"
   ]
  },
  {
   "cell_type": "code",
   "execution_count": 13,
   "metadata": {},
   "outputs": [
    {
     "name": "stderr",
     "output_type": "stream",
     "text": [
      "100%|██████████| 2/2 [00:05<00:00,  2.97s/it]\n",
      "100%|██████████| 1/1 [00:01<00:00,  1.51s/it]\n",
      "100%|██████████| 2/2 [00:05<00:00,  2.70s/it]\n",
      "100%|██████████| 1/1 [00:02<00:00,  2.00s/it]\n"
     ]
    }
   ],
   "source": [
    "for i in clases:  #_cls en este caso va a ser primero 'Charo' despues 'Gonza'\n",
    "        target_dir = os.path.join(dst_root, i)    #Esta juntando el directorio de destino que llamamos 'Archivos_procesados' con el directorio de la clase\n",
    "        target_dir_test = os.path.join(dst_root_test, i)\n",
    "        os.mkdir(target_dir)  #Si el directorio no existe lo crea\n",
    "        os.mkdir(target_dir_test)\n",
    "        src_dir = os.path.join(src_root, i) #En este tiene el directorio Archivos_wav/(Charo o Gonza)\n",
    "        src_dir_test = os.path.join(src_root_test, i)\n",
    "        for fn in tqdm(os.listdir(src_dir)):   #Aca loopea sobre cada archivo dentro de Archivos_wav//('Charo', 'Gonza'): Es decir primero Charo1.wav, Charo2.wav\n",
    "            src_fn = os.path.join(src_dir, fn) #Aca obtiene el directorio total del archivo que va a procesar\n",
    "            rate, wav = downsampling(src_fn, args.sr)  #Aca llama a la función downsample_mono. Le pasa Archivos_wav/Charo/el wav y el sr que se quiere (16000)\n",
    "            #mask, y_mean = envelope(wav, rate, threshold=args.threshold)  #Por ahora la evito\n",
    "            #wav = wav[mask]\n",
    "            delta_sample = int(dt*rate)   # 16000 * 2 = 32000 : Cada sample va a tener 32000 muestras. Las que queden menores se rellenan con 0.\n",
    "\n",
    "            # cleaned audio is less than a single sample\n",
    "            # pad with zeros to delta_sample size\n",
    "            if wav.shape[0] < delta_sample: #Si el archivo es mas corto que los 2 segundos que queremos le agregamos ceros\n",
    "                sample = np.zeros(shape=(delta_sample,), dtype=np.int16) #Crea un arreglo de ceros de (32000, )\n",
    "                sample[:wav.shape[0]] = wav  #Pega la parte de wav en sample\n",
    "                save_sample(sample, rate, target_dir, fn, 0) #Usa la funcion save_sample para guardar el archivo. \n",
    "            # step through audio and save every delta_sample\n",
    "            # discard the ending audio if it is too short\n",
    "            else: #Si el archivo es mas largo que los 2 segundos\n",
    "                trunc = wav.shape[0] % delta_sample #Obtiene el resto de la division de la duracion del audio por los 2 segundos que queremos\n",
    "                for cnt, i in enumerate(np.arange(0, wav.shape[0]-trunc, delta_sample)):\n",
    "                    start = int(i)\n",
    "                    stop = int(i + delta_sample)\n",
    "                    sample = wav[start:stop]\n",
    "                    save_sample(sample, rate, target_dir, fn, cnt)\n",
    "                    \n",
    "        for fn in tqdm(os.listdir(src_dir_test)):   #Aca loopea sobre cada archivo dentro de Archivos_wav//('Charo', 'Gonza'): Es decir primero Charo1.wav, Charo2.wav\n",
    "            src_fn = os.path.join(src_dir_test, fn) #Aca obtiene el directorio total del archivo que va a procesar\n",
    "            rate, wav = downsampling(src_fn, args.sr)  #Aca llama a la función downsample_mono. Le pasa Archivos_wav/Charo/el wav y el sr que se quiere (16000)\n",
    "            #mask, y_mean = envelope(wav, rate, threshold=args.threshold)  #Por ahora la evito\n",
    "            #wav = wav[mask]\n",
    "            delta_sample = int(dt*rate)   # 16000 * 2 = 32000 : Cada sample va a tener 32000 muestras. Las que queden menores se rellenan con 0.\n",
    "\n",
    "            # cleaned audio is less than a single sample\n",
    "            # pad with zeros to delta_sample size\n",
    "            if wav.shape[0] < delta_sample: #Si el archivo es mas corto que los 2 segundos que queremos le agregamos ceros\n",
    "                sample = np.zeros(shape=(delta_sample,), dtype=np.int16) #Crea un arreglo de ceros de (32000, )\n",
    "                sample[:wav.shape[0]] = wav  #Pega la parte de wav en sample\n",
    "                save_sample(sample, rate, target_dir_test, fn, 0) #Usa la funcion save_sample para guardar el archivo. \n",
    "            # step through audio and save every delta_sample\n",
    "            # discard the ending audio if it is too short\n",
    "            else: #Si el archivo es mas largo que los 2 segundos\n",
    "                trunc = wav.shape[0] % delta_sample #Obtiene el resto de la division de la duracion del audio por los 2 segundos que queremos\n",
    "                for cnt, i in enumerate(np.arange(0, wav.shape[0]-trunc, delta_sample)):\n",
    "                    start = int(i)\n",
    "                    stop = int(i + delta_sample)\n",
    "                    sample = wav[start:stop]\n",
    "                    save_sample(sample, rate, target_dir_test, fn, cnt)\n",
    "\n"
   ]
  },
  {
   "cell_type": "code",
   "execution_count": null,
   "metadata": {},
   "outputs": [],
   "source": []
  }
 ],
 "metadata": {
  "kernelspec": {
   "display_name": "audio",
   "language": "python",
   "name": "audio"
  },
  "language_info": {
   "codemirror_mode": {
    "name": "ipython",
    "version": 3
   },
   "file_extension": ".py",
   "mimetype": "text/x-python",
   "name": "python",
   "nbconvert_exporter": "python",
   "pygments_lexer": "ipython3",
   "version": "3.7.7"
  }
 },
 "nbformat": 4,
 "nbformat_minor": 4
}

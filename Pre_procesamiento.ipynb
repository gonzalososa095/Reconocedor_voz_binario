{
 "cells": [
  {
   "cell_type": "code",
   "execution_count": 6,
   "metadata": {},
   "outputs": [],
   "source": [
    "import matplotlib.pyplot as plt\n",
    "from scipy.io import wavfile\n",
    "import argparse\n",
    "import os\n",
    "from glob import glob\n",
    "import numpy as np\n",
    "import pandas as pd\n",
    "from librosa.core import resample, to_mono\n",
    "from tqdm import tqdm\n"
   ]
  },
  {
   "cell_type": "markdown",
   "metadata": {},
   "source": [
    "Se leen los archivos .wav de las carpetas 'Archivos_wav' y 'Archivos_wav_test'. Se realiza un downsampling a 16 Khz, y se divide cada muestra a fin de obtener muestras de 2 segundos. Las muestras procesadas se guardan en 'Archivos_procesados' y 'Archivos_procesados_test'."
   ]
  },
  {
   "cell_type": "code",
   "execution_count": 7,
   "metadata": {},
   "outputs": [],
   "source": [
    "def downsampling(path, sr):\n",
    "    rate, wav = wavfile.read(path)\n",
    "    wav = wav.astype(np.float32, order='F')\n",
    "    try:\n",
    "        tmp = wav.shape[1]\n",
    "        wav = to_mono(wav.T)\n",
    "    except:\n",
    "        pass\n",
    "    wav = resample(wav, rate, sr)\n",
    "    wav = wav.astype(np.int16)\n",
    "    return sr, wav"
   ]
  },
  {
   "cell_type": "code",
   "execution_count": 8,
   "metadata": {},
   "outputs": [],
   "source": [
    "def save_sample(sample, rate, target_dir, fn, ix):\n",
    "    fn = fn.split('.wav')[0]\n",
    "    dst_path = os.path.join(target_dir.split('.')[0], fn+'_{}.wav'.format(str(ix)))\n",
    "    if os.path.exists(dst_path):\n",
    "        return\n",
    "    wavfile.write(dst_path, rate, sample)"
   ]
  },
  {
   "cell_type": "code",
   "execution_count": 12,
   "metadata": {},
   "outputs": [],
   "source": [
    "src_root = 'Archivos_wav'\n",
    "src_root_test = 'Archivos_wav_test'\n",
    "dst_root = 'Archivos_procesados'\n",
    "dst_root_test = 'Archivos_procesados_test'\n",
    "dt = 2\n",
    "\n",
    "wav_paths = glob('{}/**'.format(src_root), recursive=True)\n",
    "wav_paths = [x for x in wav_paths if '.wav' in x]\n",
    "\n",
    "wav_paths_test = glob('{}/**'.format(src_root_test), recursive=True)\n",
    "wav_paths_test = [x for x in wav_paths_test if '.wav' in x]\n",
    "\n",
    "\n",
    "dirs = os.listdir(src_root)\n",
    "dirs_test = os.listdir(src_root)\n",
    "\n",
    "os.mkdir(dst_root)\n",
    "os.mkdir(dst_root_test)\n",
    "\n",
    "clases = os.listdir(src_root)"
   ]
  },
  {
   "cell_type": "code",
   "execution_count": 13,
   "metadata": {},
   "outputs": [
    {
     "name": "stderr",
     "output_type": "stream",
     "text": [
      "100%|██████████| 2/2 [00:05<00:00,  2.97s/it]\n",
      "100%|██████████| 1/1 [00:01<00:00,  1.51s/it]\n",
      "100%|██████████| 2/2 [00:05<00:00,  2.70s/it]\n",
      "100%|██████████| 1/1 [00:02<00:00,  2.00s/it]\n"
     ]
    }
   ],
   "source": [
    "for i in clases:  \n",
    "        target_dir = os.path.join(dst_root, i)    \n",
    "        target_dir_test = os.path.join(dst_root_test, i)\n",
    "        os.mkdir(target_dir)  \n",
    "        os.mkdir(target_dir_test)\n",
    "        src_dir = os.path.join(src_root, i) \n",
    "        src_dir_test = os.path.join(src_root_test, i)\n",
    "        for fn in tqdm(os.listdir(src_dir)):   \n",
    "            src_fn = os.path.join(src_dir, fn) \n",
    "            rate, wav = downsampling(src_fn, args.sr)  \n",
    "            delta_sample = int(dt*rate)    \n",
    "            if wav.shape[0] < delta_sample: \n",
    "                sample = np.zeros(shape=(delta_sample,), dtype=np.int16) \n",
    "                sample[:wav.shape[0]] = wav  \n",
    "                save_sample(sample, rate, target_dir, fn, 0) \n",
    "            \n",
    "            else: \n",
    "                trunc = wav.shape[0] % delta_sample \n",
    "                for cnt, i in enumerate(np.arange(0, wav.shape[0]-trunc, delta_sample)):\n",
    "                    start = int(i)\n",
    "                    stop = int(i + delta_sample)\n",
    "                    sample = wav[start:stop]\n",
    "                    save_sample(sample, rate, target_dir, fn, cnt)\n",
    "                    \n",
    "        for fn in tqdm(os.listdir(src_dir_test)):   \n",
    "            src_fn = os.path.join(src_dir_test, fn) \n",
    "            rate, wav = downsampling(src_fn, args.sr)  \n",
    "            delta_sample = int(dt*rate)   \n",
    "\n",
    "            if wav.shape[0] < delta_sample: \n",
    "                sample = np.zeros(shape=(delta_sample,), dtype=np.int16) \n",
    "                sample[:wav.shape[0]] = wav \n",
    "                save_sample(sample, rate, target_dir_test, fn, 0) \n",
    "            else: \n",
    "                trunc = wav.shape[0] % delta_sample \n",
    "                for cnt, i in enumerate(np.arange(0, wav.shape[0]-trunc, delta_sample)):\n",
    "                    start = int(i)\n",
    "                    stop = int(i + delta_sample)\n",
    "                    sample = wav[start:stop]\n",
    "                    save_sample(sample, rate, target_dir_test, fn, cnt)\n",
    "\n"
   ]
  },
  {
   "cell_type": "code",
   "execution_count": null,
   "metadata": {},
   "outputs": [],
   "source": []
  }
 ],
 "metadata": {
  "kernelspec": {
   "display_name": "audio",
   "language": "python",
   "name": "audio"
  },
  "language_info": {
   "codemirror_mode": {
    "name": "ipython",
    "version": 3
   },
   "file_extension": ".py",
   "mimetype": "text/x-python",
   "name": "python",
   "nbconvert_exporter": "python",
   "pygments_lexer": "ipython3",
   "version": "3.7.7"
  }
 },
 "nbformat": 4,
 "nbformat_minor": 4
}
